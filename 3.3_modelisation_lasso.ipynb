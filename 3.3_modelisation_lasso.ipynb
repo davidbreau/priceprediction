{
 "cells": [
  {
   "cell_type": "code",
   "execution_count": 2,
   "metadata": {},
   "outputs": [],
   "source": [
    "import pandas as pd\n",
    "from sklearn.model_selection import train_test_split\n",
    "from sklearn.pipeline import Pipeline\n",
    "from sklearn.preprocessing import MinMaxScaler, StandardScaler, RobustScaler, OneHotEncoder, PolynomialFeatures\n",
    "from sklearn.compose import ColumnTransformer\n",
    "from sklearn import linear_model\n",
    "import pickle"
   ]
  },
  {
   "cell_type": "markdown",
   "metadata": {},
   "source": [
    "### LASSO"
   ]
  },
  {
   "cell_type": "markdown",
   "metadata": {},
   "source": [
    "répartition des données"
   ]
  },
  {
   "cell_type": "code",
   "execution_count": 3,
   "metadata": {},
   "outputs": [],
   "source": [
    "df = pd.read_csv('house_data_cleaned.csv')\n",
    "y = df['price']\n",
    "X = df[[\n",
    "#     'id',\n",
    "    # 'date',\n",
    "    'bedrooms',\n",
    "    'bathrooms',\n",
    "    'sqft_living',\n",
    "    'sqft_lot',\n",
    "    'floors',\n",
    "    'waterfront',\n",
    "    'view',\n",
    "    'condition',\n",
    "    'grade',\n",
    "    'sqft_above',    \n",
    "    # 'sqft_basement',\n",
    "    'yr_built',\n",
    "    'yr_renovated',\n",
    "    'zipcode', #\n",
    "    'lat',\n",
    "    'long',\n",
    "#     'sqft_living15',\n",
    "#     'sqft_lot15',\n",
    "    # 'yr_best',\n",
    "    # 'yr_sold',\n",
    "    'yr_gap',\n",
    "    # 'comparison',\n",
    "    ]]"
   ]
  },
  {
   "cell_type": "code",
   "execution_count": 4,
   "metadata": {},
   "outputs": [],
   "source": [
    "X_train, X_test, y_train, y_test = train_test_split(\n",
    "    X, y, train_size=0.8, random_state=42\n",
    "    )"
   ]
  },
  {
   "attachments": {},
   "cell_type": "markdown",
   "metadata": {},
   "source": [
    "### Preparation du pipeline"
   ]
  },
  {
   "cell_type": "markdown",
   "metadata": {},
   "source": [
    "Gestion des données numériques"
   ]
  },
  {
   "cell_type": "code",
   "execution_count": 5,
   "metadata": {},
   "outputs": [],
   "source": [
    "numeric_features = [\n",
    "    # 'date',\n",
    "    'bedrooms',\n",
    "    'bathrooms',\n",
    "    'sqft_living',\n",
    "    'sqft_lot',\n",
    "    'yr_built',\n",
    "    'yr_renovated',\n",
    "    'floors',\n",
    "    'sqft_above',\n",
    "    # 'sqft_basement',\n",
    "    'lat',\n",
    "    'long',\n",
    "    # 'yr_best',\n",
    "    # 'yr_sold',\n",
    "    'yr_gap',\n",
    "    # 'comparison'\n",
    "    ]\n",
    "\n",
    "#on genere les 3 scalers\n",
    "numeric_transformer_minmax = Pipeline([\n",
    "    ('minmax', MinMaxScaler()),\n",
    "    ('poly', PolynomialFeatures(degree=3))\n",
    "    ])\n",
    "\n",
    "numeric_transformer_std = Pipeline([\n",
    "    ('standard', StandardScaler()),\n",
    "    ('poly', PolynomialFeatures(degree=3))\n",
    "    ])\n",
    "\n",
    "numeric_transformer_rbst = Pipeline([\n",
    "    ('standard', RobustScaler()),\n",
    "    ('poly', PolynomialFeatures(degree=3))\n",
    "    ])"
   ]
  },
  {
   "cell_type": "markdown",
   "metadata": {},
   "source": [
    "Gestion des données categorielles"
   ]
  },
  {
   "cell_type": "code",
   "execution_count": 6,
   "metadata": {},
   "outputs": [],
   "source": [
    "categorial_features = [\n",
    "    'view',\n",
    "    'condition',\n",
    "    'grade',\n",
    "    'zipcode',\n",
    "    ]\n",
    "\n",
    "categorial_transformer = OneHotEncoder(sparse_output=True)"
   ]
  },
  {
   "cell_type": "code",
   "execution_count": 7,
   "metadata": {},
   "outputs": [],
   "source": [
    "preprocessor_minmax = ColumnTransformer(\n",
    "    transformers=[\n",
    "        ('num', numeric_transformer_minmax, numeric_features),\n",
    "        ('cat', categorial_transformer, categorial_features)\n",
    "    ],\n",
    "    remainder='passthrough'\n",
    ")\n",
    "\n",
    "preprocessor_std = ColumnTransformer(\n",
    "    transformers=[\n",
    "        ('num', numeric_transformer_std, numeric_features),\n",
    "        ('cat', categorial_transformer, categorial_features)\n",
    "    ],\n",
    "    remainder='passthrough'\n",
    ")\n",
    "\n",
    "preprocessor_rbst = ColumnTransformer(\n",
    "    transformers=[\n",
    "        ('num', numeric_transformer_rbst, numeric_features),\n",
    "        ('cat', categorial_transformer, categorial_features)\n",
    "    ],\n",
    "    remainder='passthrough'\n",
    ")"
   ]
  },
  {
   "cell_type": "markdown",
   "metadata": {},
   "source": [
    "Estimateur"
   ]
  },
  {
   "cell_type": "code",
   "execution_count": 12,
   "metadata": {},
   "outputs": [],
   "source": [
    "lasso = linear_model.Lasso(alpha=0.05)"
   ]
  },
  {
   "cell_type": "code",
   "execution_count": 13,
   "metadata": {},
   "outputs": [
    {
     "name": "stderr",
     "output_type": "stream",
     "text": [
      "/home/apprenant/miniconda3/envs/machine_learning/lib/python3.10/site-packages/sklearn/linear_model/_coordinate_descent.py:631: ConvergenceWarning: Objective did not converge. You might want to increase the number of iterations, check the scale of the features or consider increasing regularisation. Duality gap: 1.336e+14, tolerance: 2.310e+11\n",
      "  model = cd_fast.enet_coordinate_descent(\n"
     ]
    },
    {
     "data": {
      "text/plain": [
       "0.8640105741227155"
      ]
     },
     "execution_count": 13,
     "metadata": {},
     "output_type": "execute_result"
    }
   ],
   "source": [
    "pipe = Pipeline([\n",
    "    ('prep', preprocessor_minmax),\n",
    "    ('lasso', lasso)\n",
    "])\n",
    "\n",
    "trained_pipe = pipe.fit(X_train, y_train)\n",
    "trained_pipe.predict(X_test)\n",
    "trained_pipe.score(X_test, y_test)\n",
    "\n"
   ]
  },
  {
   "cell_type": "markdown",
   "metadata": {},
   "source": [
    "enregistrer le modèle d'entrainement choisi sur pickle"
   ]
  },
  {
   "cell_type": "code",
   "execution_count": null,
   "metadata": {},
   "outputs": [],
   "source": [
    "pickle.dump(trained_pipe, open('ppdjangoapp/trained_pipe.pkl', 'wb'))"
   ]
  },
  {
   "cell_type": "markdown",
   "metadata": {},
   "source": [
    "historique des scores"
   ]
  },
  {
   "cell_type": "code",
   "execution_count": 10,
   "metadata": {},
   "outputs": [
    {
     "name": "stdout",
     "output_type": "stream",
     "text": [
      "minmax_lasso_poly3_05\n"
     ]
    }
   ],
   "source": [
    "scores = {\n",
    "    # alpha = 0.1\n",
    "    'minmax_lasso' : 0.8387818153900362,\n",
    "    'std_lasso' : 0.8387816477252281,\n",
    "    'rbst_lasso' : 0.8387816518697903,\n",
    "    # alpha = 0.1\n",
    "    'minmax_lasso_poly2' : 0.8471566129591712,\n",
    "    'std_lasso_poly2' : 0.848558099929865,\n",
    "    'rbst_lasso_poly2' : 0.8483787840075337,\n",
    "    # alpha = 0.05 mais ne converge pas\n",
    "    'minmax_lasso_poly3_05' : 0.8640105741227155,\n",
    "    # alpha = 0.1\n",
    "    'minmax_lasso_poly3' : 0.8630780852596053,\n",
    "    'std_lasso_poly3' : 0.8630780852596053,\n",
    "    'rbst_lasso_poly3' : 0.8616635749230119,\n",
    "}\n",
    "\n",
    "bestscore = max(scores.values())\n",
    "bestscore = [k for (k, val) in scores.items() if val == bestscore]\n",
    "print(bestscore[0])"
   ]
  },
  {
   "cell_type": "markdown",
   "metadata": {},
   "source": [
    "essai du modele entrainé"
   ]
  },
  {
   "cell_type": "code",
   "execution_count": 11,
   "metadata": {},
   "outputs": [
    {
     "name": "stdout",
     "output_type": "stream",
     "text": [
      "Valeur prédite : 524367 \n",
      " Valeur réelle : 425000 \n",
      " Différence : 99367, \n",
      " Précision : 76.62%\n"
     ]
    }
   ],
   "source": [
    "import random as rd\n",
    "#on genere un chiffre aléatoire compris en 0 et la longueur de la liste X_test\n",
    "randomint = rd.randint(0,len(X_test)+1)\n",
    "predict = round(trained_pipe.predict(X_test.iloc[[randomint]])[0])\n",
    "real = round(y.iloc[[randomint]].values[0])\n",
    "difference = round(abs(real - predict))\n",
    "accuracy = str(round((((real-difference) * 100) / real), 2)) + \"%\"\n",
    "print(f\"Valeur prédite : {predict} \\n Valeur réelle : {real} \\n Différence : {difference}, \\n Précision : {accuracy}\")"
   ]
  }
 ],
 "metadata": {
  "kernelspec": {
   "display_name": "machine_learning",
   "language": "python",
   "name": "python3"
  },
  "language_info": {
   "codemirror_mode": {
    "name": "ipython",
    "version": 3
   },
   "file_extension": ".py",
   "mimetype": "text/x-python",
   "name": "python",
   "nbconvert_exporter": "python",
   "pygments_lexer": "ipython3",
   "version": "3.10.9"
  },
  "orig_nbformat": 4,
  "vscode": {
   "interpreter": {
    "hash": "6372ac1f96e6a574de8fb7db2482e4b51a9c7365ff441969ce58324c2dcfaf16"
   }
  }
 },
 "nbformat": 4,
 "nbformat_minor": 2
}
