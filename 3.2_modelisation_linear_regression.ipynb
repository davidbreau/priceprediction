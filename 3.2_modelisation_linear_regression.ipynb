{
 "cells": [
  {
   "cell_type": "code",
   "execution_count": 19,
   "metadata": {},
   "outputs": [],
   "source": [
    "import pandas as pd\n",
    "from numpy import asarray\n",
    "from sklearn.model_selection import train_test_split\n",
    "from sklearn.pipeline import Pipeline\n",
    "from sklearn.preprocessing import MinMaxScaler, StandardScaler, RobustScaler, OneHotEncoder, PolynomialFeatures\n",
    "from sklearn.compose import ColumnTransformer\n",
    "from sklearn.linear_model import LinearRegression\n",
    "import pickle"
   ]
  },
  {
   "attachments": {},
   "cell_type": "markdown",
   "metadata": {},
   "source": [
    "### Linear regression"
   ]
  },
  {
   "cell_type": "markdown",
   "metadata": {},
   "source": [
    "répartition des données"
   ]
  },
  {
   "cell_type": "code",
   "execution_count": 20,
   "metadata": {},
   "outputs": [],
   "source": [
    "df = pd.read_csv('house_data_cleaned.csv')\n",
    "y = df['price']\n",
    "X = df[[\n",
    "#     'id',\n",
    "    # 'date',\n",
    "    'bedrooms',\n",
    "    'bathrooms',\n",
    "    'sqft_living',\n",
    "    'sqft_lot',\n",
    "    'floors',\n",
    "    'waterfront',\n",
    "    'view',\n",
    "    'condition',\n",
    "    'grade',\n",
    "    'sqft_above',    \n",
    "    # 'sqft_basement',\n",
    "    'yr_built',\n",
    "    'yr_renovated',\n",
    "    'zipcode', #\n",
    "    'lat',\n",
    "    'long',\n",
    "#     'sqft_living15',\n",
    "#     'sqft_lot15',\n",
    "    # 'yr_best',\n",
    "    # 'yr_sold',\n",
    "    'yr_gap',\n",
    "    # 'comparison',\n",
    "    ]]"
   ]
  },
  {
   "cell_type": "markdown",
   "metadata": {},
   "source": [
    "### Preparation du pipeline"
   ]
  },
  {
   "cell_type": "code",
   "execution_count": 21,
   "metadata": {},
   "outputs": [],
   "source": [
    "X_train, X_test, y_train, y_test = train_test_split(\n",
    "    X, y, train_size=0.8, random_state=42\n",
    "    )\n",
    "\n",
    "numeric_features = [\n",
    "    # 'date',\n",
    "    'bedrooms',\n",
    "    'bathrooms',\n",
    "    'sqft_living',\n",
    "    'sqft_lot',\n",
    "    'yr_built',\n",
    "    'yr_renovated',\n",
    "    'floors',\n",
    "    'sqft_above',\n",
    "    # 'sqft_basement',\n",
    "    'lat',\n",
    "    'long',\n",
    "    # 'yr_best',\n",
    "    # 'yr_sold',\n",
    "    'yr_gap',\n",
    "    # 'comparison'\n",
    "    ]\n",
    "numeric_transformer_minmax = Pipeline([\n",
    "    ('minmax', MinMaxScaler())\n",
    "    ])\n",
    "\n",
    "numeric_transformer_std = Pipeline([\n",
    "    ('standard', StandardScaler())\n",
    "    ])\n",
    "\n",
    "numeric_transformer_rbst = Pipeline([\n",
    "    ('standard', RobustScaler()),\n",
    "    ])"
   ]
  },
  {
   "cell_type": "code",
   "execution_count": 22,
   "metadata": {},
   "outputs": [],
   "source": [
    "categorial_features = [\n",
    "    'view',\n",
    "    'condition',\n",
    "    'grade',\n",
    "    'zipcode',\n",
    "    ]\n",
    "\n",
    "categorial_transformer = OneHotEncoder(sparse_output=True)"
   ]
  },
  {
   "cell_type": "code",
   "execution_count": 23,
   "metadata": {},
   "outputs": [],
   "source": [
    "preprocessor_minmax = ColumnTransformer(\n",
    "    transformers=[\n",
    "        ('num', numeric_transformer_minmax, numeric_features),\n",
    "        ('cat', categorial_transformer, categorial_features)\n",
    "    ],\n",
    "    remainder='passthrough'\n",
    ")\n",
    "\n",
    "preprocessor_std = ColumnTransformer(\n",
    "    transformers=[\n",
    "        ('num', numeric_transformer_std, numeric_features),\n",
    "        ('cat', categorial_transformer, categorial_features)\n",
    "    ],\n",
    "    remainder='passthrough'\n",
    ")\n",
    "\n",
    "preprocessor_rbst = ColumnTransformer(\n",
    "    transformers=[\n",
    "        ('num', numeric_transformer_rbst, numeric_features),\n",
    "        ('cat', categorial_transformer, categorial_features)\n",
    "    ],\n",
    "    remainder='passthrough'\n",
    ")"
   ]
  },
  {
   "cell_type": "markdown",
   "metadata": {},
   "source": [
    "Estimateur"
   ]
  },
  {
   "cell_type": "code",
   "execution_count": 24,
   "metadata": {},
   "outputs": [],
   "source": [
    "lnr = LinearRegression()"
   ]
  },
  {
   "cell_type": "code",
   "execution_count": 29,
   "metadata": {},
   "outputs": [
    {
     "data": {
      "text/plain": [
       "0.8385820435466707"
      ]
     },
     "execution_count": 29,
     "metadata": {},
     "output_type": "execute_result"
    }
   ],
   "source": [
    "pipe = Pipeline([\n",
    "    ('prep', preprocessor_std),\n",
    "    ('lnr', lnr)\n",
    "])\n",
    "\n",
    "trained_pipe = pipe.fit(X_train, y_train)\n",
    "trained_pipe.predict(X_test)\n",
    "trained_pipe.score(X_test, y_test)"
   ]
  },
  {
   "cell_type": "markdown",
   "metadata": {},
   "source": [
    "historique des scores"
   ]
  },
  {
   "cell_type": "code",
   "execution_count": 30,
   "metadata": {},
   "outputs": [
    {
     "name": "stdout",
     "output_type": "stream",
     "text": [
      "minmax_std\n"
     ]
    }
   ],
   "source": [
    "scores = {\n",
    "    'minmax_lnr' : 0.8387817757733049,\n",
    "    'std_lnr' : 0.8387821140745632,\n",
    "    'rbst_lnr' : 0.8385820435466707,\n",
    "}\n",
    "\n",
    "bestscore = max(scores.values())\n",
    "bestscore = [k for (k, val) in scores.items() if val == bestscore]\n",
    "print(bestscore[0])"
   ]
  },
  {
   "cell_type": "markdown",
   "metadata": {},
   "source": [
    "essai du modele entrainé"
   ]
  },
  {
   "cell_type": "code",
   "execution_count": 27,
   "metadata": {},
   "outputs": [
    {
     "name": "stdout",
     "output_type": "stream",
     "text": [
      "Valeur prédite : 654800 \n",
      " Valeur réelle : 352000 \n",
      " Différence : 302800, \n",
      " Précision : 13.98%\n"
     ]
    }
   ],
   "source": [
    "import random as rd\n",
    "randomint = rd.randint(0,len(X_test)+1)\n",
    "predict = round(trained_pipe.predict(X_test.iloc[[randomint]])[0])\n",
    "real = round(y.iloc[[randomint]].values[0])\n",
    "difference = round(abs(real - predict))\n",
    "accuracy = str(round((((real-difference) * 100) / real), 2)) + \"%\"\n",
    "print(f\"Valeur prédite : {predict} \\n Valeur réelle : {real} \\n Différence : {difference}, \\n Précision : {accuracy}\")"
   ]
  }
 ],
 "metadata": {
  "kernelspec": {
   "display_name": "machine_learning",
   "language": "python",
   "name": "python3"
  },
  "language_info": {
   "codemirror_mode": {
    "name": "ipython",
    "version": 3
   },
   "file_extension": ".py",
   "mimetype": "text/x-python",
   "name": "python",
   "nbconvert_exporter": "python",
   "pygments_lexer": "ipython3",
   "version": "3.10.9"
  },
  "orig_nbformat": 4,
  "vscode": {
   "interpreter": {
    "hash": "6372ac1f96e6a574de8fb7db2482e4b51a9c7365ff441969ce58324c2dcfaf16"
   }
  }
 },
 "nbformat": 4,
 "nbformat_minor": 2
}
