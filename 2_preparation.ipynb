{
 "cells": [
  {
   "cell_type": "markdown",
   "metadata": {},
   "source": [
    "# Data cleaning"
   ]
  },
  {
   "cell_type": "code",
   "execution_count": 517,
   "metadata": {},
   "outputs": [],
   "source": [
    "import pandas as pd"
   ]
  },
  {
   "cell_type": "code",
   "execution_count": 518,
   "metadata": {},
   "outputs": [],
   "source": [
    "df = pd.read_csv('kc_house_data.csv')"
   ]
  },
  {
   "cell_type": "code",
   "execution_count": 519,
   "metadata": {},
   "outputs": [],
   "source": [
    "# df = df.drop([\n",
    "#     'id',\n",
    "#     'date',\n",
    "#     'sqft_above',\n",
    "#     'yr_renovated',\n",
    "#     'lat',\n",
    "#     'long',\n",
    "#     'yr_built',\n",
    "#     'sqft_living15',\n",
    "#     'sqft_lot15',\n",
    "#     ],axis=1)"
   ]
  },
  {
   "attachments": {},
   "cell_type": "markdown",
   "metadata": {},
   "source": [
    "Transformation des colonnes"
   ]
  },
  {
   "cell_type": "code",
   "execution_count": 520,
   "metadata": {},
   "outputs": [],
   "source": [
    "#zip code en objet pour la rendre categorielle\n",
    "df['zipcode'] = df['zipcode'].apply(lambda x : str(x))\n"
   ]
  },
  {
   "cell_type": "code",
   "execution_count": 521,
   "metadata": {},
   "outputs": [
    {
     "data": {
      "text/html": [
       "<div>\n",
       "<style scoped>\n",
       "    .dataframe tbody tr th:only-of-type {\n",
       "        vertical-align: middle;\n",
       "    }\n",
       "\n",
       "    .dataframe tbody tr th {\n",
       "        vertical-align: top;\n",
       "    }\n",
       "\n",
       "    .dataframe thead th {\n",
       "        text-align: right;\n",
       "    }\n",
       "</style>\n",
       "<table border=\"1\" class=\"dataframe\">\n",
       "  <thead>\n",
       "    <tr style=\"text-align: right;\">\n",
       "      <th></th>\n",
       "      <th>date</th>\n",
       "      <th>yr_sold</th>\n",
       "    </tr>\n",
       "  </thead>\n",
       "  <tbody>\n",
       "    <tr>\n",
       "      <th>20622</th>\n",
       "      <td>18072014</td>\n",
       "      <td>2014</td>\n",
       "    </tr>\n",
       "  </tbody>\n",
       "</table>\n",
       "</div>"
      ],
      "text/plain": [
       "           date yr_sold\n",
       "20622  18072014    2014"
      ]
     },
     "execution_count": 521,
     "metadata": {},
     "output_type": "execute_result"
    }
   ],
   "source": [
    "#met la date de vente au bon format\n",
    "df['date'] = df['date'].apply(lambda x: (x[6:8] + x[4:6] + x[0:4]))\n",
    "#crée une colonne avec l'année de la vente\n",
    "df['yr_sold'] = df['date'].apply(lambda x : x[4:9])\n",
    "df[['date','yr_sold']].sample(1)"
   ]
  },
  {
   "cell_type": "code",
   "execution_count": 522,
   "metadata": {},
   "outputs": [
    {
     "data": {
      "text/html": [
       "<div>\n",
       "<style scoped>\n",
       "    .dataframe tbody tr th:only-of-type {\n",
       "        vertical-align: middle;\n",
       "    }\n",
       "\n",
       "    .dataframe tbody tr th {\n",
       "        vertical-align: top;\n",
       "    }\n",
       "\n",
       "    .dataframe thead th {\n",
       "        text-align: right;\n",
       "    }\n",
       "</style>\n",
       "<table border=\"1\" class=\"dataframe\">\n",
       "  <thead>\n",
       "    <tr style=\"text-align: right;\">\n",
       "      <th></th>\n",
       "      <th>yr_built</th>\n",
       "      <th>yr_renovated</th>\n",
       "      <th>yr_best</th>\n",
       "    </tr>\n",
       "  </thead>\n",
       "  <tbody>\n",
       "    <tr>\n",
       "      <th>14556</th>\n",
       "      <td>1965</td>\n",
       "      <td>2003</td>\n",
       "      <td>2003</td>\n",
       "    </tr>\n",
       "  </tbody>\n",
       "</table>\n",
       "</div>"
      ],
      "text/plain": [
       "       yr_built  yr_renovated  yr_best\n",
       "14556      1965          2003     2003"
      ]
     },
     "execution_count": 522,
     "metadata": {},
     "output_type": "execute_result"
    }
   ],
   "source": [
    "#choisis l'année de rénovation s'il y en a une, sinon l'année de construction\n",
    "df['yr_best'] = df[['yr_built', 'yr_renovated']].max(axis=1)\n",
    "df[df['yr_renovated']>0][['yr_built', 'yr_renovated', 'yr_best']].sample(1)"
   ]
  },
  {
   "cell_type": "code",
   "execution_count": 523,
   "metadata": {},
   "outputs": [
    {
     "data": {
      "text/html": [
       "<div>\n",
       "<style scoped>\n",
       "    .dataframe tbody tr th:only-of-type {\n",
       "        vertical-align: middle;\n",
       "    }\n",
       "\n",
       "    .dataframe tbody tr th {\n",
       "        vertical-align: top;\n",
       "    }\n",
       "\n",
       "    .dataframe thead th {\n",
       "        text-align: right;\n",
       "    }\n",
       "</style>\n",
       "<table border=\"1\" class=\"dataframe\">\n",
       "  <thead>\n",
       "    <tr style=\"text-align: right;\">\n",
       "      <th></th>\n",
       "      <th>yr_sold</th>\n",
       "      <th>yr_best</th>\n",
       "      <th>yr_gap</th>\n",
       "    </tr>\n",
       "  </thead>\n",
       "  <tbody>\n",
       "    <tr>\n",
       "      <th>10045</th>\n",
       "      <td>2015</td>\n",
       "      <td>2008</td>\n",
       "      <td>-7</td>\n",
       "    </tr>\n",
       "  </tbody>\n",
       "</table>\n",
       "</div>"
      ],
      "text/plain": [
       "       yr_sold  yr_best  yr_gap\n",
       "10045     2015     2008      -7"
      ]
     },
     "execution_count": 523,
     "metadata": {},
     "output_type": "execute_result"
    }
   ],
   "source": [
    "#calcul de la différence entre l'année de la vente et l'année de rénovation (ou à defaut construction)\n",
    "df['yr_sold'] = df['yr_sold'].apply(lambda x : int(x))\n",
    "df['yr_best'] = df['yr_best'].apply(lambda x : int(x))\n",
    "df['yr_gap'] = df['yr_best'] - df['yr_sold']\n",
    "df[['yr_sold', 'yr_best', 'yr_gap']].sample(1)"
   ]
  },
  {
   "cell_type": "code",
   "execution_count": 524,
   "metadata": {},
   "outputs": [
    {
     "data": {
      "text/html": [
       "<div>\n",
       "<style scoped>\n",
       "    .dataframe tbody tr th:only-of-type {\n",
       "        vertical-align: middle;\n",
       "    }\n",
       "\n",
       "    .dataframe tbody tr th {\n",
       "        vertical-align: top;\n",
       "    }\n",
       "\n",
       "    .dataframe thead th {\n",
       "        text-align: right;\n",
       "    }\n",
       "</style>\n",
       "<table border=\"1\" class=\"dataframe\">\n",
       "  <thead>\n",
       "    <tr style=\"text-align: right;\">\n",
       "      <th></th>\n",
       "      <th>sqft_living</th>\n",
       "      <th>sqft_lot</th>\n",
       "      <th>sqft_living15</th>\n",
       "      <th>sqft_lot15</th>\n",
       "      <th>comparison</th>\n",
       "    </tr>\n",
       "  </thead>\n",
       "  <tbody>\n",
       "    <tr>\n",
       "      <th>7010</th>\n",
       "      <td>1460</td>\n",
       "      <td>9879</td>\n",
       "      <td>1610</td>\n",
       "      <td>10050</td>\n",
       "      <td>-321</td>\n",
       "    </tr>\n",
       "    <tr>\n",
       "      <th>10890</th>\n",
       "      <td>1440</td>\n",
       "      <td>5434</td>\n",
       "      <td>1560</td>\n",
       "      <td>3770</td>\n",
       "      <td>1544</td>\n",
       "    </tr>\n",
       "    <tr>\n",
       "      <th>5015</th>\n",
       "      <td>2170</td>\n",
       "      <td>15000</td>\n",
       "      <td>2430</td>\n",
       "      <td>14256</td>\n",
       "      <td>484</td>\n",
       "    </tr>\n",
       "    <tr>\n",
       "      <th>14289</th>\n",
       "      <td>1670</td>\n",
       "      <td>12056</td>\n",
       "      <td>1860</td>\n",
       "      <td>12056</td>\n",
       "      <td>-190</td>\n",
       "    </tr>\n",
       "    <tr>\n",
       "      <th>10752</th>\n",
       "      <td>910</td>\n",
       "      <td>2693</td>\n",
       "      <td>1360</td>\n",
       "      <td>2693</td>\n",
       "      <td>-450</td>\n",
       "    </tr>\n",
       "    <tr>\n",
       "      <th>21390</th>\n",
       "      <td>2540</td>\n",
       "      <td>5050</td>\n",
       "      <td>2280</td>\n",
       "      <td>5050</td>\n",
       "      <td>260</td>\n",
       "    </tr>\n",
       "    <tr>\n",
       "      <th>10698</th>\n",
       "      <td>2300</td>\n",
       "      <td>8000</td>\n",
       "      <td>2070</td>\n",
       "      <td>10200</td>\n",
       "      <td>-1970</td>\n",
       "    </tr>\n",
       "    <tr>\n",
       "      <th>11711</th>\n",
       "      <td>2250</td>\n",
       "      <td>5301</td>\n",
       "      <td>2240</td>\n",
       "      <td>7200</td>\n",
       "      <td>-1889</td>\n",
       "    </tr>\n",
       "    <tr>\n",
       "      <th>9594</th>\n",
       "      <td>1620</td>\n",
       "      <td>5200</td>\n",
       "      <td>1500</td>\n",
       "      <td>5200</td>\n",
       "      <td>120</td>\n",
       "    </tr>\n",
       "    <tr>\n",
       "      <th>11793</th>\n",
       "      <td>1250</td>\n",
       "      <td>7654</td>\n",
       "      <td>1310</td>\n",
       "      <td>7350</td>\n",
       "      <td>244</td>\n",
       "    </tr>\n",
       "    <tr>\n",
       "      <th>16912</th>\n",
       "      <td>1570</td>\n",
       "      <td>2048</td>\n",
       "      <td>1570</td>\n",
       "      <td>2006</td>\n",
       "      <td>42</td>\n",
       "    </tr>\n",
       "    <tr>\n",
       "      <th>12888</th>\n",
       "      <td>760</td>\n",
       "      <td>4000</td>\n",
       "      <td>1130</td>\n",
       "      <td>4000</td>\n",
       "      <td>-370</td>\n",
       "    </tr>\n",
       "    <tr>\n",
       "      <th>3163</th>\n",
       "      <td>1360</td>\n",
       "      <td>73616</td>\n",
       "      <td>2040</td>\n",
       "      <td>50965</td>\n",
       "      <td>21971</td>\n",
       "    </tr>\n",
       "    <tr>\n",
       "      <th>18559</th>\n",
       "      <td>1350</td>\n",
       "      <td>2560</td>\n",
       "      <td>1800</td>\n",
       "      <td>2560</td>\n",
       "      <td>-450</td>\n",
       "    </tr>\n",
       "    <tr>\n",
       "      <th>20445</th>\n",
       "      <td>1571</td>\n",
       "      <td>2017</td>\n",
       "      <td>1520</td>\n",
       "      <td>1497</td>\n",
       "      <td>571</td>\n",
       "    </tr>\n",
       "    <tr>\n",
       "      <th>21356</th>\n",
       "      <td>2280</td>\n",
       "      <td>5000</td>\n",
       "      <td>2910</td>\n",
       "      <td>5000</td>\n",
       "      <td>-630</td>\n",
       "    </tr>\n",
       "    <tr>\n",
       "      <th>3448</th>\n",
       "      <td>1520</td>\n",
       "      <td>7983</td>\n",
       "      <td>1520</td>\n",
       "      <td>7783</td>\n",
       "      <td>200</td>\n",
       "    </tr>\n",
       "    <tr>\n",
       "      <th>6030</th>\n",
       "      <td>2683</td>\n",
       "      <td>40386</td>\n",
       "      <td>2683</td>\n",
       "      <td>34800</td>\n",
       "      <td>5586</td>\n",
       "    </tr>\n",
       "    <tr>\n",
       "      <th>391</th>\n",
       "      <td>1980</td>\n",
       "      <td>3128</td>\n",
       "      <td>1950</td>\n",
       "      <td>2856</td>\n",
       "      <td>302</td>\n",
       "    </tr>\n",
       "    <tr>\n",
       "      <th>12103</th>\n",
       "      <td>2340</td>\n",
       "      <td>5957</td>\n",
       "      <td>2340</td>\n",
       "      <td>6604</td>\n",
       "      <td>-647</td>\n",
       "    </tr>\n",
       "  </tbody>\n",
       "</table>\n",
       "</div>"
      ],
      "text/plain": [
       "       sqft_living  sqft_lot  sqft_living15  sqft_lot15  comparison\n",
       "7010          1460      9879           1610       10050        -321\n",
       "10890         1440      5434           1560        3770        1544\n",
       "5015          2170     15000           2430       14256         484\n",
       "14289         1670     12056           1860       12056        -190\n",
       "10752          910      2693           1360        2693        -450\n",
       "21390         2540      5050           2280        5050         260\n",
       "10698         2300      8000           2070       10200       -1970\n",
       "11711         2250      5301           2240        7200       -1889\n",
       "9594          1620      5200           1500        5200         120\n",
       "11793         1250      7654           1310        7350         244\n",
       "16912         1570      2048           1570        2006          42\n",
       "12888          760      4000           1130        4000        -370\n",
       "3163          1360     73616           2040       50965       21971\n",
       "18559         1350      2560           1800        2560        -450\n",
       "20445         1571      2017           1520        1497         571\n",
       "21356         2280      5000           2910        5000        -630\n",
       "3448          1520      7983           1520        7783         200\n",
       "6030          2683     40386           2683       34800        5586\n",
       "391           1980      3128           1950        2856         302\n",
       "12103         2340      5957           2340        6604        -647"
      ]
     },
     "execution_count": 524,
     "metadata": {},
     "output_type": "execute_result"
    }
   ],
   "source": [
    "# donne une indication entre la grandeur du bien et ses voisins\n",
    "df['comparison'] = (df['sqft_living']-df['sqft_living15']) + (df['sqft_lot']-df['sqft_lot15'])\n",
    "df[['sqft_living','sqft_lot','sqft_living15', 'sqft_lot15', 'comparison']].sample(20)"
   ]
  },
  {
   "cell_type": "markdown",
   "metadata": {},
   "source": [
    "Retrait des valeurs aberrantes"
   ]
  },
  {
   "cell_type": "code",
   "execution_count": 525,
   "metadata": {},
   "outputs": [],
   "source": [
    "df = df[df['bathrooms'] > 0]"
   ]
  },
  {
   "attachments": {},
   "cell_type": "markdown",
   "metadata": {},
   "source": [
    "Enregistrement du nouveau fichier"
   ]
  },
  {
   "cell_type": "code",
   "execution_count": 526,
   "metadata": {},
   "outputs": [],
   "source": [
    "df.to_csv('house_data_cleaned.csv')"
   ]
  }
 ],
 "metadata": {
  "kernelspec": {
   "display_name": "machine_learning",
   "language": "python",
   "name": "python3"
  },
  "language_info": {
   "codemirror_mode": {
    "name": "ipython",
    "version": 3
   },
   "file_extension": ".py",
   "mimetype": "text/x-python",
   "name": "python",
   "nbconvert_exporter": "python",
   "pygments_lexer": "ipython3",
   "version": "3.10.9"
  },
  "orig_nbformat": 4,
  "vscode": {
   "interpreter": {
    "hash": "6372ac1f96e6a574de8fb7db2482e4b51a9c7365ff441969ce58324c2dcfaf16"
   }
  }
 },
 "nbformat": 4,
 "nbformat_minor": 2
}
